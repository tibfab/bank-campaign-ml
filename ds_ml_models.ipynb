{
 "cells": [
  {
   "cell_type": "markdown",
   "metadata": {},
   "source": [
    "# Random Forrest and XGBoost"
   ]
  },
  {
   "cell_type": "code",
   "execution_count": 158,
   "metadata": {},
   "outputs": [],
   "source": [
    "import os.path\n",
    "\n",
    "import pandas as pd\n",
    "import numpy as np\n",
    "\n",
    "import matplotlib.pyplot as plt\n",
    "import seaborn as sns\n",
    "import shap\n",
    "\n",
    "from sklearn.model_selection import train_test_split\n",
    "from sklearn.ensemble import RandomForestClassifier\n",
    "from sklearn.preprocessing import OrdinalEncoder\n",
    "from sklearn.model_selection import GridSearchCV\n",
    "from sklearn import metrics\n",
    "\n",
    "from imblearn.ensemble import BalancedBaggingClassifier\n",
    "from imblearn.over_sampling import RandomOverSampler\n",
    "\n",
    "from xgboost import XGBClassifier"
   ]
  },
  {
   "cell_type": "markdown",
   "metadata": {},
   "source": [
    "## Data load and preparation"
   ]
  },
  {
   "cell_type": "markdown",
   "metadata": {},
   "source": [
    "- Data processing step are based on findings during EDA\n",
    "- Label encoding on categorical data"
   ]
  },
  {
   "cell_type": "code",
   "execution_count": 148,
   "metadata": {},
   "outputs": [],
   "source": [
    "def get_processed_data(filename, encoder=None, split_target=True, oversampling=False):  \n",
    "    \"\"\"Returns processed data for modeling\n",
    "\n",
    "    Args:\n",
    "        filename (string): The name of the data file\n",
    "        encoder (LabelEncoder, optional): Fitted label encoder. Creates and fit a new one if None\n",
    "        split_target (bool, optional): Set to True if file contains target data. Defaults to True\n",
    "        oversampling (bool, optional): Oversampling of the minority class if True\n",
    "\n",
    "    Returns:\n",
    "        Pandas data frame(s): Processed data\n",
    "        OrdinalEncoder: Fitted encoder if None was given\n",
    "    \"\"\"\n",
    "    \n",
    "    # determine file type\n",
    "    extension = os.path.splitext(filename)[1][1:]\n",
    "    \n",
    "    # load all data\n",
    "    data = pd.read_excel(filename)\n",
    "    print(f'Loaded data shape: {data.shape}')\n",
    "        \n",
    "    # drop duplicates\n",
    "    data.drop_duplicates(inplace=True, ignore_index=True)\n",
    "    print(f'Shape w/o duplicates: {data.shape}')\n",
    "    \n",
    "    if split_target:\n",
    "        predictors = data.iloc[:, 0:-1]\n",
    "        target = data.iloc[:, -1:]\n",
    "        \n",
    "        if oversampling:\n",
    "            predictors, target = perform_oversampling(predictors, target)\n",
    "    else:\n",
    "        predictors = data\n",
    "        \n",
    "    # drop column 'duration' to avoid data leakage\n",
    "    predictors.drop('duration', axis=1, inplace=True)\n",
    "        \n",
    "    # create ordinal encoder, if necessary\n",
    "    categories = predictors.select_dtypes('object')\n",
    "    if encoder == None:\n",
    "        encoder = OrdinalEncoder()\n",
    "        encoder.fit(categories)  \n",
    "        \n",
    "    ordinal_cats = encoder.transform(categories)\n",
    "    \n",
    "    encoded_predictors = pd.concat([predictors.select_dtypes(exclude='object'),\n",
    "                                     pd.DataFrame(columns=encoder.feature_names_in_, data=ordinal_cats)],\n",
    "                                    axis=1)\n",
    "    \n",
    "    print(f'Encoded data shape: {encoded_predictors.shape}')\n",
    "\n",
    "    if split_target:\n",
    "        # convert target yes/no to 0/1\n",
    "        encoded_target = target.applymap(lambda x: 1 if x == 'yes' else 0)\n",
    "        return encoded_predictors, encoded_target, encoder\n",
    "    else:\n",
    "        return encoded_predictors"
   ]
  },
  {
   "cell_type": "markdown",
   "metadata": {},
   "source": [
    "## Metric"
   ]
  },
  {
   "cell_type": "markdown",
   "metadata": {},
   "source": [
    "As discovered during EDA, we face an imbalanced classification problem, and therefore, using the right metric for model training is crucial.\n",
    "\n",
    "F1 score is considered to be a good metric to measure the classification performance in this case."
   ]
  },
  {
   "cell_type": "markdown",
   "metadata": {},
   "source": [
    "## Training"
   ]
  },
  {
   "cell_type": "markdown",
   "metadata": {},
   "source": [
    "### Split data for training and evaluation"
   ]
  },
  {
   "cell_type": "code",
   "execution_count": 149,
   "metadata": {},
   "outputs": [
    {
     "name": "stdout",
     "output_type": "stream",
     "text": [
      "Loaded data shape: (32910, 15)\n",
      "Shape w/o duplicates: (32902, 15)\n",
      "Encoded data shape: (32902, 13)\n",
      "X train shape: (26321, 13); X test shape (6581, 13)\n",
      "Y train shape: (26321, 1); Y test shape (6581, 1)\n"
     ]
    }
   ],
   "source": [
    "predictors, target, train_encoder = get_processed_data('train_file.xlsx')\n",
    "\n",
    "# note: stratified target split due to imbalanced target data\n",
    "x_train, x_val, y_train, y_val = train_test_split(predictors, target,\n",
    "                                                  train_size=0.8,\n",
    "                                                  shuffle=True,\n",
    "                                                  random_state=42,\n",
    "                                                  stratify=target)\n",
    "\n",
    "print(f'X train shape: {x_train.shape}; X test shape {x_val.shape}')\n",
    "print(f'Y train shape: {y_train.shape}; Y test shape {y_val.shape}')"
   ]
  },
  {
   "cell_type": "code",
   "execution_count": 166,
   "metadata": {},
   "outputs": [
    {
     "data": {
      "text/html": [
       "<div>\n",
       "<style scoped>\n",
       "    .dataframe tbody tr th:only-of-type {\n",
       "        vertical-align: middle;\n",
       "    }\n",
       "\n",
       "    .dataframe tbody tr th {\n",
       "        vertical-align: top;\n",
       "    }\n",
       "\n",
       "    .dataframe thead th {\n",
       "        text-align: right;\n",
       "    }\n",
       "</style>\n",
       "<table border=\"1\" class=\"dataframe\">\n",
       "  <thead>\n",
       "    <tr style=\"text-align: right;\">\n",
       "      <th></th>\n",
       "      <th>age</th>\n",
       "      <th>campaign</th>\n",
       "      <th>previous</th>\n",
       "      <th>job</th>\n",
       "      <th>marital</th>\n",
       "      <th>education</th>\n",
       "      <th>default</th>\n",
       "      <th>housing</th>\n",
       "      <th>loan</th>\n",
       "      <th>contact</th>\n",
       "      <th>month</th>\n",
       "      <th>day_of_week</th>\n",
       "      <th>poutcome</th>\n",
       "    </tr>\n",
       "  </thead>\n",
       "  <tbody>\n",
       "    <tr>\n",
       "      <th>26760</th>\n",
       "      <td>27</td>\n",
       "      <td>2</td>\n",
       "      <td>4</td>\n",
       "      <td>8.0</td>\n",
       "      <td>2.0</td>\n",
       "      <td>6.0</td>\n",
       "      <td>0.0</td>\n",
       "      <td>0.0</td>\n",
       "      <td>2.0</td>\n",
       "      <td>0.0</td>\n",
       "      <td>4.0</td>\n",
       "      <td>1.0</td>\n",
       "      <td>2.0</td>\n",
       "    </tr>\n",
       "    <tr>\n",
       "      <th>4974</th>\n",
       "      <td>34</td>\n",
       "      <td>3</td>\n",
       "      <td>0</td>\n",
       "      <td>0.0</td>\n",
       "      <td>2.0</td>\n",
       "      <td>6.0</td>\n",
       "      <td>0.0</td>\n",
       "      <td>0.0</td>\n",
       "      <td>0.0</td>\n",
       "      <td>0.0</td>\n",
       "      <td>7.0</td>\n",
       "      <td>0.0</td>\n",
       "      <td>1.0</td>\n",
       "    </tr>\n",
       "    <tr>\n",
       "      <th>28345</th>\n",
       "      <td>35</td>\n",
       "      <td>1</td>\n",
       "      <td>0</td>\n",
       "      <td>0.0</td>\n",
       "      <td>1.0</td>\n",
       "      <td>6.0</td>\n",
       "      <td>0.0</td>\n",
       "      <td>0.0</td>\n",
       "      <td>2.0</td>\n",
       "      <td>0.0</td>\n",
       "      <td>1.0</td>\n",
       "      <td>2.0</td>\n",
       "      <td>1.0</td>\n",
       "    </tr>\n",
       "    <tr>\n",
       "      <th>19049</th>\n",
       "      <td>54</td>\n",
       "      <td>1</td>\n",
       "      <td>0</td>\n",
       "      <td>0.0</td>\n",
       "      <td>0.0</td>\n",
       "      <td>2.0</td>\n",
       "      <td>0.0</td>\n",
       "      <td>2.0</td>\n",
       "      <td>0.0</td>\n",
       "      <td>1.0</td>\n",
       "      <td>6.0</td>\n",
       "      <td>2.0</td>\n",
       "      <td>1.0</td>\n",
       "    </tr>\n",
       "    <tr>\n",
       "      <th>10525</th>\n",
       "      <td>59</td>\n",
       "      <td>4</td>\n",
       "      <td>0</td>\n",
       "      <td>9.0</td>\n",
       "      <td>1.0</td>\n",
       "      <td>5.0</td>\n",
       "      <td>0.0</td>\n",
       "      <td>0.0</td>\n",
       "      <td>0.0</td>\n",
       "      <td>0.0</td>\n",
       "      <td>1.0</td>\n",
       "      <td>4.0</td>\n",
       "      <td>1.0</td>\n",
       "    </tr>\n",
       "  </tbody>\n",
       "</table>\n",
       "</div>"
      ],
      "text/plain": [
       "       age  campaign  previous  job  marital  education  default  housing  \\\n",
       "26760   27         2         4  8.0      2.0        6.0      0.0      0.0   \n",
       "4974    34         3         0  0.0      2.0        6.0      0.0      0.0   \n",
       "28345   35         1         0  0.0      1.0        6.0      0.0      0.0   \n",
       "19049   54         1         0  0.0      0.0        2.0      0.0      2.0   \n",
       "10525   59         4         0  9.0      1.0        5.0      0.0      0.0   \n",
       "\n",
       "       loan  contact  month  day_of_week  poutcome  \n",
       "26760   2.0      0.0    4.0          1.0       2.0  \n",
       "4974    0.0      0.0    7.0          0.0       1.0  \n",
       "28345   2.0      0.0    1.0          2.0       1.0  \n",
       "19049   0.0      1.0    6.0          2.0       1.0  \n",
       "10525   0.0      0.0    1.0          4.0       1.0  "
      ]
     },
     "execution_count": 166,
     "metadata": {},
     "output_type": "execute_result"
    }
   ],
   "source": [
    "x_train.head()"
   ]
  },
  {
   "cell_type": "markdown",
   "metadata": {},
   "source": [
    "### Compute class weight to handle imbalanced data"
   ]
  },
  {
   "cell_type": "code",
   "execution_count": 89,
   "metadata": {},
   "outputs": [
    {
     "data": {
      "text/plain": [
       "7.874241402562373"
      ]
     },
     "execution_count": 89,
     "metadata": {},
     "output_type": "execute_result"
    }
   ],
   "source": [
    "class_counts = y_train.value_counts()\n",
    "class_weights = class_counts[0] / class_counts[1]\n",
    "class_weights"
   ]
  },
  {
   "cell_type": "markdown",
   "metadata": {},
   "source": [
    "### Random Forrest"
   ]
  },
  {
   "cell_type": "markdown",
   "metadata": {},
   "source": [
    "#### Baseline"
   ]
  },
  {
   "cell_type": "code",
   "execution_count": 90,
   "metadata": {},
   "outputs": [],
   "source": [
    "def print_train_val_metrics(model):\n",
    "    \"\"\"Prints metrics for training and evaluation data\n",
    "\n",
    "    Args:\n",
    "        model : The model to evaluate\n",
    "    \"\"\"\n",
    "    \n",
    "    y_train_pred = model.predict(x_train)\n",
    "    y_val_pred = model.predict(x_val)\n",
    "    \n",
    "    metric_results = pd.DataFrame(columns=['Training', 'Validation'], index=['Accuracy', 'F1 score', 'ROC AUC'])\n",
    "    \n",
    "    metric_results.at['Accuracy', 'Training'] = metrics.accuracy_score(y_train_pred, y_train)\n",
    "    metric_results.at['F1 score', 'Training'] = metrics.f1_score(y_train_pred, y_train)\n",
    "    metric_results.at['ROC AUC', 'Training'] = metrics.roc_auc_score(y_train_pred, y_train)\n",
    "    \n",
    "    metric_results.at['Accuracy', 'Validation'] = metrics.accuracy_score(y_val_pred, y_val)\n",
    "    metric_results.at['F1 score', 'Validation'] = metrics.f1_score(y_val_pred, y_val)\n",
    "    metric_results.at['ROC AUC', 'Validation'] = metrics.roc_auc_score(y_val_pred, y_val)\n",
    "    \n",
    "    print(metric_results.astype(float).round(3))"
   ]
  },
  {
   "cell_type": "code",
   "execution_count": 91,
   "metadata": {},
   "outputs": [
    {
     "name": "stdout",
     "output_type": "stream",
     "text": [
      "          Training  Validation\n",
      "Accuracy     0.994       0.887\n",
      "F1 score     0.975       0.290\n",
      "ROC AUC      0.994       0.703\n"
     ]
    }
   ],
   "source": [
    "rf_classifier = RandomForestClassifier(random_state=42)\n",
    "rf_classifier.fit(x_train, y_train.values.ravel())\n",
    "\n",
    "print_train_val_metrics(rf_classifier)"
   ]
  },
  {
   "cell_type": "markdown",
   "metadata": {},
   "source": [
    "Confusion matrix"
   ]
  },
  {
   "cell_type": "code",
   "execution_count": 92,
   "metadata": {},
   "outputs": [],
   "source": [
    "def plot_cm(labels, predictions, p=0.5, verbose=False):\n",
    "    \"\"\"Plots the confusion matrix based on the specified lables and predictions at p.\n",
    "    \n",
    "    Args:\n",
    "      labels (_type_): _description_\n",
    "      predictions (_type_): _description_\n",
    "      p (float, optional): _description_. Defaults to 0.5.\n",
    "    \"\"\"\n",
    "    cm = metrics.confusion_matrix(labels, predictions > p)\n",
    "    plt.figure(figsize=(5,5))\n",
    "    sns.heatmap(cm, annot=True, fmt=\"d\")\n",
    "    plt.title('Confusion matrix @{:.2f}'.format(p))\n",
    "    plt.ylabel('Actual label')\n",
    "    plt.xlabel('Predicted label')\n",
    "\n",
    "    if verbose:\n",
    "        print(f'True negatives: {cm[0][0]}')\n",
    "        print(f'False positives: {cm[0][1]}')\n",
    "        print(f'False negatives: {cm[1][0]}')\n",
    "        print(f'True positives: {cm[1][1]}')\n",
    "        print(f'Total positives: {np.sum(cm[1])}')"
   ]
  },
  {
   "cell_type": "code",
   "execution_count": 93,
   "metadata": {},
   "outputs": [
    {
     "data": {
      "image/png": "[encoded data removed]",
      "text/plain": [
       "<Figure size 360x360 with 2 Axes>"
      ]
     },
     "metadata": {
      "needs_background": "light"
     },
     "output_type": "display_data"
    }
   ],
   "source": [
    "val_pred_rf_baseline = rf_classifier.predict(x_val)\n",
    "plot_cm(y_val, val_pred_rf_baseline, p=0.5)"
   ]
  },
  {
   "cell_type": "markdown",
   "metadata": {},
   "source": [
    "#### Class weight"
   ]
  },
  {
   "cell_type": "code",
   "execution_count": 94,
   "metadata": {},
   "outputs": [
    {
     "name": "stdout",
     "output_type": "stream",
     "text": [
      "          Training  Validation\n",
      "Accuracy     0.994       0.887\n",
      "F1 score     0.972       0.285\n",
      "ROC AUC      0.975       0.701\n"
     ]
    }
   ],
   "source": [
    "rf_classifier_balanced = RandomForestClassifier(random_state=42, class_weight='balanced')\n",
    "rf_classifier_balanced.fit(x_train, y_train.values.ravel())\n",
    "\n",
    "print_train_val_metrics(rf_classifier_balanced)"
   ]
  },
  {
   "cell_type": "code",
   "execution_count": 95,
   "metadata": {},
   "outputs": [
    {
     "data": {
      "image/png": "[encoded data removed]",
      "text/plain": [
       "<Figure size 360x360 with 2 Axes>"
      ]
     },
     "metadata": {
      "needs_background": "light"
     },
     "output_type": "display_data"
    }
   ],
   "source": [
    "val_pred_rf_balanced = rf_classifier_balanced.predict(x_val)\n",
    "plot_cm(y_val, val_pred_rf_balanced, p=0.5)"
   ]
  },
  {
   "cell_type": "markdown",
   "metadata": {},
   "source": [
    "##### Feature importance"
   ]
  },
  {
   "cell_type": "code",
   "execution_count": 96,
   "metadata": {},
   "outputs": [],
   "source": [
    "def print_feature_importance(features, importance_scores):\n",
    "    feature_importance = pd.Series(importance_scores, index=features).sort_values(ascending=False)\n",
    "    sns.barplot(x=feature_importance, y=feature_importance.index)\n",
    "    plt.title('Feature importance scores')\n",
    "    plt.xlabel('Feature')\n",
    "    plt.ylabel('Score')\n",
    "    plt.show()"
   ]
  },
  {
   "cell_type": "code",
   "execution_count": 97,
   "metadata": {},
   "outputs": [
    {
     "data": {
      "image/png": "[encoded data removed]",
      "text/plain": [
       "<Figure size 432x288 with 1 Axes>"
      ]
     },
     "metadata": {
      "needs_background": "light"
     },
     "output_type": "display_data"
    }
   ],
   "source": [
    "print_feature_importance(x_train.columns, rf_classifier_balanced.feature_importances_)"
   ]
  },
  {
   "cell_type": "markdown",
   "metadata": {},
   "source": [
    "#### Hyperparameter tuning via grid search"
   ]
  },
  {
   "cell_type": "code",
   "execution_count": 98,
   "metadata": {},
   "outputs": [],
   "source": [
    "rf_grid_parameters = [{'n_estimators' : [10, 20, 50, 100, 200],\n",
    "                       'max_depth' : [4, 5, 6, 10, None],\n",
    "                       'min_samples_split': [2, 4, 10, 20, 40, 100],\n",
    "                       'max_features': [0.5, 'auto','sqrt','log2', None],\n",
    "                       'bootstrap': [False, True],\n",
    "                       'class_weight': ['balanced', 'balanced_subsample', None]}]"
   ]
  },
  {
   "cell_type": "code",
   "execution_count": 99,
   "metadata": {},
   "outputs": [
    {
     "name": "stderr",
     "output_type": "stream",
     "text": [
      "A worker stopped while some jobs were given to the executor. This can be caused by a too short worker timeout or by a memory leak.\n"
     ]
    },
    {
     "name": "stdout",
     "output_type": "stream",
     "text": [
      "{'bootstrap': True, 'class_weight': 'balanced_subsample', 'max_depth': None, 'max_features': 0.5, 'min_samples_split': 40, 'n_estimators': 100}\n"
     ]
    }
   ],
   "source": [
    "rf_grid_search = GridSearchCV(RandomForestClassifier(random_state=42),\n",
    "                              param_grid=rf_grid_parameters,\n",
    "                              scoring='f1',\n",
    "                              n_jobs=-1)\n",
    "\n",
    "rf_classifier_grid = rf_grid_search.fit(x_train, y_train.values.ravel())\n",
    "print(rf_classifier_grid.best_params_)"
   ]
  },
  {
   "cell_type": "code",
   "execution_count": 100,
   "metadata": {},
   "outputs": [
    {
     "name": "stdout",
     "output_type": "stream",
     "text": [
      "          Training  Validation\n",
      "Accuracy     0.885       0.851\n",
      "F1 score     0.580       0.436\n",
      "ROC AUC      0.726       0.658\n"
     ]
    }
   ],
   "source": [
    "print_train_val_metrics(rf_classifier_grid)"
   ]
  },
  {
   "cell_type": "code",
   "execution_count": 101,
   "metadata": {},
   "outputs": [
    {
     "name": "stdout",
     "output_type": "stream",
     "text": [
      "          Training  Validation\n",
      "Accuracy     0.917       0.864\n",
      "F1 score     0.683       0.434\n",
      "ROC AUC      0.787       0.669\n"
     ]
    }
   ],
   "source": [
    "rf_classifier_grid = RandomForestClassifier(bootstrap=True,\n",
    "                                            class_weight='balanced',\n",
    "                                            max_depth=None,\n",
    "                                            max_features=0.5,\n",
    "                                            min_samples_split=20,\n",
    "                                            n_estimators=200,\n",
    "                                            random_state=42)\n",
    "rf_classifier_grid.fit(x_train, y_train.values.ravel())\n",
    "\n",
    "print_train_val_metrics(rf_classifier_grid)"
   ]
  },
  {
   "cell_type": "code",
   "execution_count": 102,
   "metadata": {},
   "outputs": [
    {
     "data": {
      "image/png": "[encoded data removed]",
      "text/plain": [
       "<Figure size 360x360 with 2 Axes>"
      ]
     },
     "metadata": {
      "needs_background": "light"
     },
     "output_type": "display_data"
    }
   ],
   "source": [
    "val_pred_rf_grid = rf_classifier_grid.predict(x_val)\n",
    "plot_cm(y_val, val_pred_rf_grid, p=0.5)"
   ]
  },
  {
   "cell_type": "markdown",
   "metadata": {},
   "source": [
    "##### Feature importance"
   ]
  },
  {
   "cell_type": "code",
   "execution_count": 103,
   "metadata": {},
   "outputs": [
    {
     "data": {
      "image/png": "[encoded data removed]",
      "text/plain": [
       "<Figure size 432x288 with 1 Axes>"
      ]
     },
     "metadata": {
      "needs_background": "light"
     },
     "output_type": "display_data"
    }
   ],
   "source": [
    "print_feature_importance(x_train.columns, rf_classifier_grid.feature_importances_)"
   ]
  },
  {
   "cell_type": "markdown",
   "metadata": {},
   "source": [
    "### BalanceBaggingClassifier"
   ]
  },
  {
   "cell_type": "code",
   "execution_count": 104,
   "metadata": {},
   "outputs": [
    {
     "name": "stdout",
     "output_type": "stream",
     "text": [
      "          Training  Validation\n",
      "Accuracy     0.892       0.806\n",
      "F1 score     0.665       0.373\n",
      "ROC AUC      0.752       0.612\n"
     ]
    }
   ],
   "source": [
    "bb_classifier = BalancedBaggingClassifier(random_state=42)\n",
    "bb_classifier.fit(x_train, y_train.values.ravel())\n",
    "\n",
    "print_train_val_metrics(bb_classifier)"
   ]
  },
  {
   "cell_type": "code",
   "execution_count": 105,
   "metadata": {},
   "outputs": [
    {
     "data": {
      "image/png": "[encoded data removed]",
      "text/plain": [
       "<Figure size 360x360 with 2 Axes>"
      ]
     },
     "metadata": {
      "needs_background": "light"
     },
     "output_type": "display_data"
    }
   ],
   "source": [
    "val_pred_bb_classifier = bb_classifier.predict(x_val)\n",
    "plot_cm(y_val, val_pred_bb_classifier, p=0.5)"
   ]
  },
  {
   "cell_type": "markdown",
   "metadata": {},
   "source": [
    "### XGBoost"
   ]
  },
  {
   "cell_type": "markdown",
   "metadata": {},
   "source": [
    "#### Baseline"
   ]
  },
  {
   "cell_type": "code",
   "execution_count": 178,
   "metadata": {},
   "outputs": [
    {
     "name": "stdout",
     "output_type": "stream",
     "text": [
      "          Training  Validation\n",
      "Accuracy     0.924       0.892\n",
      "F1 score     0.531       0.305\n",
      "ROC AUC      0.899       0.730\n"
     ]
    }
   ],
   "source": [
    "xgb_classifier = XGBClassifier(objective='binary:logistic', random_state=42)\n",
    "xgb_classifier.fit(x_train, y_train)\n",
    "\n",
    "print_train_val_metrics(xgb_classifier)"
   ]
  },
  {
   "cell_type": "code",
   "execution_count": 194,
   "metadata": {},
   "outputs": [
    {
     "name": "stdout",
     "output_type": "stream",
     "text": [
      "[[0.96053416 0.03946584]]\n"
     ]
    }
   ],
   "source": [
    "print(xgb_classifier.predict_proba(x_val.iloc[0,:].to_frame().transpose()))"
   ]
  },
  {
   "cell_type": "code",
   "execution_count": 168,
   "metadata": {},
   "outputs": [
    {
     "data": {
      "image/png": "[encoded data removed]",
      "text/plain": [
       "<Figure size 360x360 with 2 Axes>"
      ]
     },
     "metadata": {
      "needs_background": "light"
     },
     "output_type": "display_data"
    }
   ],
   "source": [
    "val_pred_xgb_classifier = xgb_classifier.predict(x_val)\n",
    "plot_cm(y_val, val_pred_xgb_classifier, p=0.5)"
   ]
  },
  {
   "cell_type": "markdown",
   "metadata": {},
   "source": [
    "#### Class weight"
   ]
  },
  {
   "cell_type": "code",
   "execution_count": 108,
   "metadata": {},
   "outputs": [
    {
     "name": "stdout",
     "output_type": "stream",
     "text": [
      "          Training  Validation\n",
      "Accuracy     0.871       0.811\n",
      "F1 score     0.575       0.383\n",
      "ROC AUC      0.713       0.618\n"
     ]
    }
   ],
   "source": [
    "xgb_classifier_scaled = XGBClassifier(scale_pos_weight=class_weights, random_state=42)\n",
    "xgb_classifier_scaled.fit(x_train, y_train)\n",
    "\n",
    "print_train_val_metrics(xgb_classifier_scaled)"
   ]
  },
  {
   "cell_type": "code",
   "execution_count": 109,
   "metadata": {},
   "outputs": [
    {
     "data": {
      "image/png": "[encoded data removed]",
      "text/plain": [
       "<Figure size 360x360 with 2 Axes>"
      ]
     },
     "metadata": {
      "needs_background": "light"
     },
     "output_type": "display_data"
    }
   ],
   "source": [
    "val_pred_xgb_scaled = xgb_classifier_scaled.predict(x_val)\n",
    "plot_cm(y_val, val_pred_xgb_scaled, p=0.5)"
   ]
  },
  {
   "cell_type": "markdown",
   "metadata": {},
   "source": [
    "#### Hyperparameter tuning via grid search"
   ]
  },
  {
   "cell_type": "code",
   "execution_count": 110,
   "metadata": {},
   "outputs": [
    {
     "name": "stderr",
     "output_type": "stream",
     "text": [
      "A worker stopped while some jobs were given to the executor. This can be caused by a too short worker timeout or by a memory leak.\n"
     ]
    },
    {
     "name": "stdout",
     "output_type": "stream",
     "text": [
      "{'alpha': 0.5, 'gamma': 0.05, 'lambda': 0.05, 'max_depth': 5, 'scale_pos_weight': 7.874241402562373}\n"
     ]
    }
   ],
   "source": [
    "xgb_grid_params = {\n",
    "    'gamma': [0.05, 0.1,1],\n",
    "    'max_depth': [5, 10, 20],\n",
    "    'alpha': [0, 0.1, 0.5],\n",
    "    'lambda': [0.001, 0.01, 0.05],\n",
    "    'scale_pos_weight': [1, class_weights]\n",
    "}\n",
    "\n",
    "xgb_classifier_grid = GridSearchCV(XGBClassifier(objective='binary:logistic',\n",
    "                                                 random_state=42),\n",
    "                                  param_grid=xgb_grid_params,\n",
    "                                  scoring='f1',\n",
    "                                  n_jobs=-1)\n",
    "\n",
    "xgb_fitted_grid = xgb_classifier_grid.fit(x_train, y_train.values.ravel())\n",
    "\n",
    "print(xgb_fitted_grid.best_params_)"
   ]
  },
  {
   "cell_type": "code",
   "execution_count": 111,
   "metadata": {},
   "outputs": [
    {
     "name": "stdout",
     "output_type": "stream",
     "text": [
      "          Training  Validation\n",
      "Accuracy     0.848       0.811\n",
      "F1 score     0.514       0.395\n",
      "ROC AUC      0.681       0.623\n"
     ]
    }
   ],
   "source": [
    "xgb_fitted_grid = XGBClassifier(alpha=0.5,\n",
    "                                gamma=0.05,\n",
    "                                max_depth=5,\n",
    "                                scale_pos_weight=class_weights,\n",
    "                                random_state=42)\n",
    "xgb_fitted_grid.fit(x_train, y_train)\n",
    "\n",
    "print_train_val_metrics(xgb_fitted_grid)"
   ]
  },
  {
   "cell_type": "markdown",
   "metadata": {},
   "source": [
    "##### Feature importance via SHAP values"
   ]
  },
  {
   "cell_type": "code",
   "execution_count": 112,
   "metadata": {},
   "outputs": [
    {
     "name": "stderr",
     "output_type": "stream",
     "text": [
      "ntree_limit is deprecated, use `iteration_range` or model slicing instead.\n"
     ]
    },
    {
     "data": {
      "image/png": "[encoded data removed]",
      "text/plain": [
       "<Figure size 576x482.4 with 1 Axes>"
      ]
     },
     "metadata": {
      "needs_background": "light"
     },
     "output_type": "display_data"
    }
   ],
   "source": [
    "explainer = shap.TreeExplainer(xgb_classifier)\n",
    "explainer_values = explainer(x_train)\n",
    "\n",
    "shap.summary_plot(explainer_values, x_train, plot_type=\"bar\")"
   ]
  },
  {
   "cell_type": "code",
   "execution_count": 150,
   "metadata": {},
   "outputs": [
    {
     "data": {
      "image/png": "[encoded data removed]",
      "text/plain": [
       "<Figure size 576x396 with 2 Axes>"
      ]
     },
     "metadata": {
      "needs_background": "light"
     },
     "output_type": "display_data"
    }
   ],
   "source": [
    "shap.plots.beeswarm(explainer_values)"
   ]
  },
  {
   "cell_type": "markdown",
   "metadata": {},
   "source": [
    "### Oversampling"
   ]
  },
  {
   "cell_type": "code",
   "execution_count": 114,
   "metadata": {},
   "outputs": [],
   "source": [
    "def perform_oversampling(x, y):\n",
    "    \"\"\"Performs oversampling on the minority class \"yes\" in the target\n",
    "\n",
    "    Args:\n",
    "        x (DataFrame): Predictors\n",
    "        y (DataFrame): Target\n",
    "\n",
    "    Returns:\n",
    "        DataFrames: Predictors and oversampling target data\n",
    "    \"\"\"\n",
    "    print('Orig target balance:')\n",
    "    print(y.y.value_counts())\n",
    "    \n",
    "    ros = RandomOverSampler(sampling_strategy='minority', random_state=42)\n",
    "    x, y = ros.fit_resample(x, y)\n",
    "    \n",
    "    print('Resampled target balance:')\n",
    "    print(y.y.value_counts())\n",
    "    \n",
    "    return x, y"
   ]
  },
  {
   "cell_type": "code",
   "execution_count": 115,
   "metadata": {},
   "outputs": [
    {
     "name": "stdout",
     "output_type": "stream",
     "text": [
      "Loaded data shape: (32910, 15)\n",
      "Shape w/o duplicates: (32902, 15)\n",
      "Orig target balance:\n",
      "no     29195\n",
      "yes     3707\n",
      "Name: y, dtype: int64\n",
      "Resampled target balance:\n",
      "no     29195\n",
      "yes    29195\n",
      "Name: y, dtype: int64\n",
      "Encoded data shape: (58390, 13)\n",
      "X train shape: (46712, 13); X test shape (11678, 13)\n",
      "Y train shape: (46712, 1); Y test shape (11678, 1)\n"
     ]
    }
   ],
   "source": [
    "predictors_os, target_os, train_encoder_os = get_processed_data('train_file.xlsx', oversampling=True)\n",
    "\n",
    "x_train_os, x_val_os, y_train_os, y_val_os = train_test_split(predictors_os, target_os,\n",
    "                                                              train_size=0.8,\n",
    "                                                              shuffle=True,\n",
    "                                                              random_state=42,\n",
    "                                                              stratify=target_os)\n",
    "\n",
    "print(f'X train shape: {x_train_os.shape}; X test shape {x_val_os.shape}')\n",
    "print(f'Y train shape: {y_train_os.shape}; Y test shape {y_val_os.shape}')"
   ]
  },
  {
   "cell_type": "code",
   "execution_count": 116,
   "metadata": {},
   "outputs": [],
   "source": [
    "def print_train_val_metrics_os(model):\n",
    "    \"\"\"Prints metrics for training and evaluation of oversampled data\n",
    "\n",
    "    Args:\n",
    "        model : The model to evaluate\n",
    "    \"\"\"\n",
    "    \n",
    "    y_train_pred = model.predict(x_train_os)\n",
    "    y_val_pred = model.predict(x_val_os)\n",
    "    \n",
    "    metric_results = pd.DataFrame(columns=['Training', 'Validation'], index=['Accuracy', 'F1 score', 'ROC AUC'])\n",
    "    \n",
    "    metric_results.at['Accuracy', 'Training'] = metrics.accuracy_score(y_train_pred, y_train_os)\n",
    "    metric_results.at['F1 score', 'Training'] = metrics.f1_score(y_train_pred, y_train_os)\n",
    "    metric_results.at['ROC AUC', 'Training'] = metrics.roc_auc_score(y_train_pred, y_train_os)\n",
    "    \n",
    "    metric_results.at['Accuracy', 'Validation'] = metrics.accuracy_score(y_val_pred, y_val_os)\n",
    "    metric_results.at['F1 score', 'Validation'] = metrics.f1_score(y_val_pred, y_val_os)\n",
    "    metric_results.at['ROC AUC', 'Validation'] = metrics.roc_auc_score(y_val_pred, y_val_os)\n",
    "    \n",
    "    print(metric_results.astype(float).round(3))"
   ]
  },
  {
   "cell_type": "markdown",
   "metadata": {},
   "source": [
    "#### Random forest"
   ]
  },
  {
   "cell_type": "code",
   "execution_count": 117,
   "metadata": {},
   "outputs": [
    {
     "name": "stdout",
     "output_type": "stream",
     "text": [
      "Fitting 5 folds for each of 4500 candidates, totalling 22500 fits\n"
     ]
    },
    {
     "name": "stderr",
     "output_type": "stream",
     "text": [
      "A worker stopped while some jobs were given to the executor. This can be caused by a too short worker timeout or by a memory leak.\n"
     ]
    },
    {
     "name": "stdout",
     "output_type": "stream",
     "text": [
      "{'bootstrap': False, 'class_weight': 'balanced', 'max_depth': None, 'max_features': 'auto', 'min_samples_split': 2, 'n_estimators': 200}\n"
     ]
    }
   ],
   "source": [
    "rf_classifier_grid_os = GridSearchCV(RandomForestClassifier(random_state=42),\n",
    "                                     param_grid=rf_grid_parameters,\n",
    "                                     scoring='f1',\n",
    "                                     n_jobs=-1,\n",
    "                                     verbose=1)\n",
    "\n",
    "rf_best_grid_os = rf_classifier_grid_os.fit(x_train_os, y_train_os.values.ravel())\n",
    "print(rf_best_grid_os.best_params_)"
   ]
  },
  {
   "cell_type": "markdown",
   "metadata": {},
   "source": [
    "Best grid without oversampling:  \n",
    "{'bootstrap': True, 'class_weight': 'balanced', 'max_depth': None, 'max_features': 0.5, 'min_samples_split': 20, 'n_estimators': 200}  \n",
    "with oversampling:  \n",
    "{'bootstrap': False, 'class_weight': 'balanced', 'max_depth': None, 'max_features': 'auto', 'min_samples_split': 2, 'n_estimators': 10}"
   ]
  },
  {
   "cell_type": "code",
   "execution_count": 118,
   "metadata": {},
   "outputs": [
    {
     "name": "stdout",
     "output_type": "stream",
     "text": [
      "          Training  Validation\n",
      "Accuracy     0.992       0.961\n",
      "F1 score     0.964       0.854\n",
      "ROC AUC      0.966       0.873\n"
     ]
    }
   ],
   "source": [
    "print_train_val_metrics(rf_best_grid_os)"
   ]
  },
  {
   "cell_type": "code",
   "execution_count": 119,
   "metadata": {},
   "outputs": [
    {
     "data": {
      "image/png": "[encoded data removed]",
      "text/plain": [
       "<Figure size 360x360 with 2 Axes>"
      ]
     },
     "metadata": {
      "needs_background": "light"
     },
     "output_type": "display_data"
    }
   ],
   "source": [
    "val_pred_rf_os = rf_best_grid_os.predict(x_val_os)\n",
    "plot_cm(y_val_os, val_pred_rf_os, p=0.5)"
   ]
  },
  {
   "cell_type": "markdown",
   "metadata": {},
   "source": [
    "#### XGBoost"
   ]
  },
  {
   "cell_type": "code",
   "execution_count": 120,
   "metadata": {},
   "outputs": [
    {
     "name": "stderr",
     "output_type": "stream",
     "text": [
      "A worker stopped while some jobs were given to the executor. This can be caused by a too short worker timeout or by a memory leak.\n"
     ]
    },
    {
     "name": "stdout",
     "output_type": "stream",
     "text": [
      "{'alpha': 0.1, 'gamma': 0.1, 'lambda': 0.05, 'max_depth': 20, 'scale_pos_weight': 1}\n"
     ]
    }
   ],
   "source": [
    "xgb_classifier_grid_os = GridSearchCV(XGBClassifier(objective='binary:logistic',\n",
    "                                                    random_state=42),\n",
    "                                      param_grid=xgb_grid_params,\n",
    "                                      scoring='f1',\n",
    "                                      n_jobs=-1,\n",
    "                                      verbose=0)\n",
    "\n",
    "xgb_best_grid_os = xgb_classifier_grid_os.fit(x_train_os, y_train_os.values.ravel())\n",
    "\n",
    "print(xgb_best_grid_os.best_params_)"
   ]
  },
  {
   "cell_type": "code",
   "execution_count": 121,
   "metadata": {},
   "outputs": [
    {
     "name": "stdout",
     "output_type": "stream",
     "text": [
      "          Training  Validation\n",
      "Accuracy     0.992       0.927\n",
      "F1 score     0.964       0.754\n",
      "ROC AUC      0.966       0.803\n"
     ]
    }
   ],
   "source": [
    "print_train_val_metrics(xgb_best_grid_os)"
   ]
  },
  {
   "cell_type": "markdown",
   "metadata": {},
   "source": [
    "Best grid without oversampling:  \n",
    "{'alpha': 0.5, 'gamma': 0.05, 'lambda': 0.001, 'max_depth': 5, 'scale_pos_weight': 7.875640679794983}  \n",
    "with oversampling:  \n",
    "{'alpha': 0.1, 'gamma': 0.05, 'lambda': 0.05, 'max_depth': 20, 'scale_pos_weight': 1}"
   ]
  },
  {
   "cell_type": "code",
   "execution_count": 122,
   "metadata": {},
   "outputs": [
    {
     "data": {
      "image/png": "[encoded data removed]",
      "text/plain": [
       "<Figure size 360x360 with 2 Axes>"
      ]
     },
     "metadata": {
      "needs_background": "light"
     },
     "output_type": "display_data"
    }
   ],
   "source": [
    "val_pred_xgb_os = xgb_best_grid_os.predict(x_val_os)\n",
    "plot_cm(y_val_os, val_pred_xgb_os, p=0.5)"
   ]
  },
  {
   "cell_type": "markdown",
   "metadata": {},
   "source": [
    "## Summary"
   ]
  },
  {
   "cell_type": "markdown",
   "metadata": {},
   "source": [
    "| Model | Accuracy | F1 score | ROC AUC |\n",
    "| :- | :- | :- | :-\n",
    "| RF baseline* |0.887|0.290|0.703|\n",
    "| RF class weights* |0.887|0.285|0.701|\n",
    "| RF best grid |0.851|0.436|0.658|\n",
    "| RF oversampling |0.961|0.854|0.873|\n",
    "| Balance Bagging |0.806|0.373|0.612|\n",
    "| XGB baseline* |0.892|0.305|0.730|\n",
    "| XGB class weights |0.811|0.383|0.618|\n",
    "| XGB best grid |0.811|0.395|0.623|\n",
    "| XGB oversampling* |0.927|0.764|0.803|\n",
    "\n",
    "\\* Overfitting"
   ]
  },
  {
   "cell_type": "markdown",
   "metadata": {},
   "source": [
    "## Test predictions"
   ]
  },
  {
   "cell_type": "code",
   "execution_count": 152,
   "metadata": {},
   "outputs": [
    {
     "name": "stdout",
     "output_type": "stream",
     "text": [
      "Loaded data shape: (40, 14)\n",
      "Shape w/o duplicates: (40, 14)\n",
      "Encoded data shape: (40, 13)\n"
     ]
    },
    {
     "data": {
      "text/html": [
       "<div>\n",
       "<style scoped>\n",
       "    .dataframe tbody tr th:only-of-type {\n",
       "        vertical-align: middle;\n",
       "    }\n",
       "\n",
       "    .dataframe tbody tr th {\n",
       "        vertical-align: top;\n",
       "    }\n",
       "\n",
       "    .dataframe thead th {\n",
       "        text-align: right;\n",
       "    }\n",
       "</style>\n",
       "<table border=\"1\" class=\"dataframe\">\n",
       "  <thead>\n",
       "    <tr style=\"text-align: right;\">\n",
       "      <th></th>\n",
       "      <th>age</th>\n",
       "      <th>campaign</th>\n",
       "      <th>previous</th>\n",
       "      <th>job</th>\n",
       "      <th>marital</th>\n",
       "      <th>education</th>\n",
       "      <th>default</th>\n",
       "      <th>housing</th>\n",
       "      <th>loan</th>\n",
       "      <th>contact</th>\n",
       "      <th>month</th>\n",
       "      <th>day_of_week</th>\n",
       "      <th>poutcome</th>\n",
       "    </tr>\n",
       "  </thead>\n",
       "  <tbody>\n",
       "    <tr>\n",
       "      <th>0</th>\n",
       "      <td>34</td>\n",
       "      <td>4</td>\n",
       "      <td>0</td>\n",
       "      <td>7.0</td>\n",
       "      <td>1.0</td>\n",
       "      <td>3.0</td>\n",
       "      <td>0.0</td>\n",
       "      <td>0.0</td>\n",
       "      <td>0.0</td>\n",
       "      <td>1.0</td>\n",
       "      <td>6.0</td>\n",
       "      <td>2.0</td>\n",
       "      <td>1.0</td>\n",
       "    </tr>\n",
       "    <tr>\n",
       "      <th>1</th>\n",
       "      <td>29</td>\n",
       "      <td>1</td>\n",
       "      <td>0</td>\n",
       "      <td>1.0</td>\n",
       "      <td>2.0</td>\n",
       "      <td>2.0</td>\n",
       "      <td>0.0</td>\n",
       "      <td>0.0</td>\n",
       "      <td>0.0</td>\n",
       "      <td>0.0</td>\n",
       "      <td>3.0</td>\n",
       "      <td>2.0</td>\n",
       "      <td>1.0</td>\n",
       "    </tr>\n",
       "    <tr>\n",
       "      <th>2</th>\n",
       "      <td>35</td>\n",
       "      <td>2</td>\n",
       "      <td>0</td>\n",
       "      <td>0.0</td>\n",
       "      <td>2.0</td>\n",
       "      <td>3.0</td>\n",
       "      <td>0.0</td>\n",
       "      <td>0.0</td>\n",
       "      <td>0.0</td>\n",
       "      <td>0.0</td>\n",
       "      <td>6.0</td>\n",
       "      <td>4.0</td>\n",
       "      <td>1.0</td>\n",
       "    </tr>\n",
       "    <tr>\n",
       "      <th>3</th>\n",
       "      <td>60</td>\n",
       "      <td>1</td>\n",
       "      <td>0</td>\n",
       "      <td>0.0</td>\n",
       "      <td>0.0</td>\n",
       "      <td>3.0</td>\n",
       "      <td>0.0</td>\n",
       "      <td>2.0</td>\n",
       "      <td>0.0</td>\n",
       "      <td>0.0</td>\n",
       "      <td>3.0</td>\n",
       "      <td>0.0</td>\n",
       "      <td>1.0</td>\n",
       "    </tr>\n",
       "    <tr>\n",
       "      <th>4</th>\n",
       "      <td>45</td>\n",
       "      <td>2</td>\n",
       "      <td>0</td>\n",
       "      <td>4.0</td>\n",
       "      <td>1.0</td>\n",
       "      <td>6.0</td>\n",
       "      <td>0.0</td>\n",
       "      <td>0.0</td>\n",
       "      <td>0.0</td>\n",
       "      <td>1.0</td>\n",
       "      <td>6.0</td>\n",
       "      <td>4.0</td>\n",
       "      <td>1.0</td>\n",
       "    </tr>\n",
       "  </tbody>\n",
       "</table>\n",
       "</div>"
      ],
      "text/plain": [
       "   age  campaign  previous  job  marital  education  default  housing  loan  \\\n",
       "0   34         4         0  7.0      1.0        3.0      0.0      0.0   0.0   \n",
       "1   29         1         0  1.0      2.0        2.0      0.0      0.0   0.0   \n",
       "2   35         2         0  0.0      2.0        3.0      0.0      0.0   0.0   \n",
       "3   60         1         0  0.0      0.0        3.0      0.0      2.0   0.0   \n",
       "4   45         2         0  4.0      1.0        6.0      0.0      0.0   0.0   \n",
       "\n",
       "   contact  month  day_of_week  poutcome  \n",
       "0      1.0    6.0          2.0       1.0  \n",
       "1      0.0    3.0          2.0       1.0  \n",
       "2      0.0    6.0          4.0       1.0  \n",
       "3      0.0    3.0          0.0       1.0  \n",
       "4      1.0    6.0          4.0       1.0  "
      ]
     },
     "execution_count": 152,
     "metadata": {},
     "output_type": "execute_result"
    }
   ],
   "source": [
    "x_test = get_processed_data('test_file.xlsx', encoder=train_encoder, split_target=False)\n",
    "x_test.head()"
   ]
  },
  {
   "cell_type": "code",
   "execution_count": 196,
   "metadata": {},
   "outputs": [
    {
     "data": {
      "text/html": [
       "<div>\n",
       "<style scoped>\n",
       "    .dataframe tbody tr th:only-of-type {\n",
       "        vertical-align: middle;\n",
       "    }\n",
       "\n",
       "    .dataframe tbody tr th {\n",
       "        vertical-align: top;\n",
       "    }\n",
       "\n",
       "    .dataframe thead th {\n",
       "        text-align: right;\n",
       "    }\n",
       "</style>\n",
       "<table border=\"1\" class=\"dataframe\">\n",
       "  <thead>\n",
       "    <tr style=\"text-align: right;\">\n",
       "      <th></th>\n",
       "      <th>rf_grid_search</th>\n",
       "      <th>rf_classifier_grid_os</th>\n",
       "      <th>xgb_best_grid_os</th>\n",
       "    </tr>\n",
       "  </thead>\n",
       "  <tbody>\n",
       "    <tr>\n",
       "      <th>0</th>\n",
       "      <td>0</td>\n",
       "      <td>0</td>\n",
       "      <td>0</td>\n",
       "    </tr>\n",
       "    <tr>\n",
       "      <th>1</th>\n",
       "      <td>0</td>\n",
       "      <td>0</td>\n",
       "      <td>0</td>\n",
       "    </tr>\n",
       "    <tr>\n",
       "      <th>2</th>\n",
       "      <td>0</td>\n",
       "      <td>0</td>\n",
       "      <td>0</td>\n",
       "    </tr>\n",
       "    <tr>\n",
       "      <th>3</th>\n",
       "      <td>0</td>\n",
       "      <td>0</td>\n",
       "      <td>0</td>\n",
       "    </tr>\n",
       "    <tr>\n",
       "      <th>4</th>\n",
       "      <td>0</td>\n",
       "      <td>0</td>\n",
       "      <td>0</td>\n",
       "    </tr>\n",
       "  </tbody>\n",
       "</table>\n",
       "</div>"
      ],
      "text/plain": [
       "   rf_grid_search  rf_classifier_grid_os  xgb_best_grid_os\n",
       "0               0                      0                 0\n",
       "1               0                      0                 0\n",
       "2               0                      0                 0\n",
       "3               0                      0                 0\n",
       "4               0                      0                 0"
      ]
     },
     "execution_count": 196,
     "metadata": {},
     "output_type": "execute_result"
    }
   ],
   "source": [
    "test_predictions = {}\n",
    "\n",
    "test_predictions['rf_grid_search'] = rf_classifier_grid_os.predict(x_test)\n",
    "test_predictions['rf_classifier_grid_os'] = rf_classifier_grid_os.predict(x_test)\n",
    "test_predictions['xgb_best_grid_os'] = xgb_best_grid_os.predict(x_test)\n",
    "\n",
    "test_pred_df = pd.DataFrame().from_dict(test_predictions)\n",
    "test_pred_df.head()"
   ]
  },
  {
   "cell_type": "code",
   "execution_count": 197,
   "metadata": {},
   "outputs": [],
   "source": [
    "test_pred_df.to_csv('test_predictions.csv', index=False)"
   ]
  }
 ],
 "metadata": {
  "interpreter": {
   "hash": "d46b08aaa7185633d4c534272731182fb681d96c8f7586dda8fd0aa5d62c16ad"
  },
  "kernelspec": {
   "display_name": "Python 3.8.8 ('daiichi')",
   "language": "python",
   "name": "python3"
  },
  "language_info": {
   "codemirror_mode": {
    "name": "ipython",
    "version": 3
   },
   "file_extension": ".py",
   "mimetype": "text/x-python",
   "name": "python",
   "nbconvert_exporter": "python",
   "pygments_lexer": "ipython3",
   "version": "3.8.8"
  },
  "orig_nbformat": 4
 },
 "nbformat": 4,
 "nbformat_minor": 2
}

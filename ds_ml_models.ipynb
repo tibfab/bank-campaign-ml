{
 "cells": [
  {
   "cell_type": "markdown",
   "metadata": {},
   "source": [
    "# Random Forrest and XGBoost"
   ]
  },
  {
   "cell_type": "code",
   "execution_count": 454,
   "metadata": {},
   "outputs": [],
   "source": [
    "import os.path\n",
    "\n",
    "import pandas as pd\n",
    "import numpy as np\n",
    "\n",
    "import matplotlib.pyplot as plt\n",
    "import seaborn as sns\n",
    "import shap\n",
    "\n",
    "from sklearn.model_selection import train_test_split\n",
    "from sklearn.ensemble import RandomForestClassifier\n",
    "from sklearn.preprocessing import OrdinalEncoder\n",
    "from sklearn.model_selection import GridSearchCV\n",
    "from sklearn import metrics\n",
    "\n",
    "from imblearn.ensemble import BalancedBaggingClassifier\n",
    "from imblearn.over_sampling import RandomOverSampler\n",
    "\n",
    "from xgboost import XGBClassifier"
   ]
  },
  {
   "cell_type": "markdown",
   "metadata": {},
   "source": [
    "## Data load and preparation"
   ]
  },
  {
   "cell_type": "markdown",
   "metadata": {},
   "source": [
    "- Data processing step are based on findings during EDA\n",
    "- Label encoding on categorical data"
   ]
  },
  {
   "cell_type": "code",
   "execution_count": 384,
   "metadata": {},
   "outputs": [],
   "source": [
    "def get_processed_data(filename, encoder=None, split_target=True, oversample=False):  \n",
    "    \"\"\"Returns processed data for modeling\n",
    "\n",
    "    Args:\n",
    "        filename (string): The name of the data file\n",
    "        encoder (LabelEncoder, optional): Fitted label encoder. Creates and fit a new one if None\n",
    "        split_target (bool, optional): Set to True if file contains target data. Defaults to True\n",
    "        oversample (bool, optional): Oversamples the minority class if True\n",
    "\n",
    "    Returns:\n",
    "        Pandas data frame(s): Processed data\n",
    "        OrdinalEncoder: Fitted encoder if None was given\n",
    "    \"\"\"\n",
    "    \n",
    "    # determine file type\n",
    "    extension = os.path.splitext(filename)[1][1:]\n",
    "    \n",
    "    # load all data\n",
    "    if extension == 'xlsx':\n",
    "        data = pd.read_excel(filename)\n",
    "    elif extension == 'csv':\n",
    "        data = pd.read_csv(filename)\n",
    "    else:\n",
    "        print(f'Error: Data file type \"{extension}\" is not supported!')\n",
    "        return\n",
    "    \n",
    "    print(f'Loaded data shape: {data.shape}')\n",
    "        \n",
    "    # drop duplicates\n",
    "    data.drop_duplicates(inplace=True, ignore_index=True)\n",
    "    print(f'Shape w/o duplicates: {data.shape}')\n",
    "    \n",
    "    if split_target:\n",
    "        predictors = data.iloc[:, 0:-1]\n",
    "        target = data.iloc[:,-1:]\n",
    "        \n",
    "        if oversample:\n",
    "            predictors, target = perform_oversampling(predictors, target)\n",
    "    else:\n",
    "        predictors = data\n",
    "        \n",
    "    # create ordinal encoder, if necessary\n",
    "    categories = predictors.select_dtypes('object')\n",
    "    if encoder == None:\n",
    "        encoder = OrdinalEncoder()\n",
    "        encoder.fit(categories)  \n",
    "        \n",
    "    ordinal_cats = encoder.transform(categories)\n",
    "    \n",
    "    encoded_predictors = pd.concat([predictors.select_dtypes(exclude='object'),\n",
    "                                     pd.DataFrame(columns=encoder.feature_names_in_, data=ordinal_cats)],\n",
    "                                    axis=1)\n",
    "    \n",
    "    print(f'Encoded data shape: {encoded_predictors.shape}')\n",
    "\n",
    "    if split_target:\n",
    "        # convert target yes/no to 0/1\n",
    "        encoded_target = target.applymap(lambda x: 1 if x == 'yes' else 0)\n",
    "        return encoded_predictors, encoded_target, encoder\n",
    "    else:\n",
    "        return encoded_predictors"
   ]
  },
  {
   "cell_type": "markdown",
   "metadata": {},
   "source": [
    "## Metric"
   ]
  },
  {
   "cell_type": "markdown",
   "metadata": {},
   "source": [
    "As discovered during EDA, we face an imbalanced classification problem, and therefore, using the right metric for model training is crucial.\n",
    "\n",
    "F1 score is considered to be a good metric to measure the classification performance in this case."
   ]
  },
  {
   "cell_type": "markdown",
   "metadata": {},
   "source": [
    "## Training"
   ]
  },
  {
   "cell_type": "markdown",
   "metadata": {},
   "source": [
    "### Split data for training and evaluation"
   ]
  },
  {
   "cell_type": "code",
   "execution_count": 385,
   "metadata": {},
   "outputs": [
    {
     "name": "stdout",
     "output_type": "stream",
     "text": [
      "Loaded data shape: (32910, 15)\n",
      "Shape w/o duplicates: (32902, 15)\n",
      "Encoded data shape: (32902, 14)\n",
      "X train shape: (26321, 14); X test shape (6581, 14)\n",
      "Y train shape: (26321, 1); Y test shape (6581, 1)\n"
     ]
    }
   ],
   "source": [
    "# note: stratified target split due to imbalanced target data\n",
    "\n",
    "predictors, target, train_encoder = get_processed_data('train_file.xlsx')\n",
    "\n",
    "x_train, x_val, y_train, y_val = train_test_split(predictors, target,\n",
    "                                                  train_size=0.8,\n",
    "                                                  shuffle=True,\n",
    "                                                  random_state=42,\n",
    "                                                  stratify=target)\n",
    "\n",
    "print(f'X train shape: {x_train.shape}; X test shape {x_val.shape}')\n",
    "print(f'Y train shape: {y_train.shape}; Y test shape {y_val.shape}')"
   ]
  },
  {
   "cell_type": "code",
   "execution_count": 338,
   "metadata": {},
   "outputs": [
    {
     "data": {
      "text/html": [
       "<div>\n",
       "<style scoped>\n",
       "    .dataframe tbody tr th:only-of-type {\n",
       "        vertical-align: middle;\n",
       "    }\n",
       "\n",
       "    .dataframe tbody tr th {\n",
       "        vertical-align: top;\n",
       "    }\n",
       "\n",
       "    .dataframe thead th {\n",
       "        text-align: right;\n",
       "    }\n",
       "</style>\n",
       "<table border=\"1\" class=\"dataframe\">\n",
       "  <thead>\n",
       "    <tr style=\"text-align: right;\">\n",
       "      <th></th>\n",
       "      <th>age</th>\n",
       "      <th>duration</th>\n",
       "      <th>campaign</th>\n",
       "      <th>previous</th>\n",
       "      <th>job</th>\n",
       "      <th>marital</th>\n",
       "      <th>education</th>\n",
       "      <th>default</th>\n",
       "      <th>housing</th>\n",
       "      <th>loan</th>\n",
       "      <th>contact</th>\n",
       "      <th>month</th>\n",
       "      <th>day_of_week</th>\n",
       "      <th>poutcome</th>\n",
       "    </tr>\n",
       "  </thead>\n",
       "  <tbody>\n",
       "    <tr>\n",
       "      <th>26760</th>\n",
       "      <td>27</td>\n",
       "      <td>237</td>\n",
       "      <td>2</td>\n",
       "      <td>4</td>\n",
       "      <td>8.0</td>\n",
       "      <td>2.0</td>\n",
       "      <td>6.0</td>\n",
       "      <td>0.0</td>\n",
       "      <td>0.0</td>\n",
       "      <td>2.0</td>\n",
       "      <td>0.0</td>\n",
       "      <td>4.0</td>\n",
       "      <td>1.0</td>\n",
       "      <td>2.0</td>\n",
       "    </tr>\n",
       "    <tr>\n",
       "      <th>4974</th>\n",
       "      <td>34</td>\n",
       "      <td>229</td>\n",
       "      <td>3</td>\n",
       "      <td>0</td>\n",
       "      <td>0.0</td>\n",
       "      <td>2.0</td>\n",
       "      <td>6.0</td>\n",
       "      <td>0.0</td>\n",
       "      <td>0.0</td>\n",
       "      <td>0.0</td>\n",
       "      <td>0.0</td>\n",
       "      <td>7.0</td>\n",
       "      <td>0.0</td>\n",
       "      <td>1.0</td>\n",
       "    </tr>\n",
       "    <tr>\n",
       "      <th>28345</th>\n",
       "      <td>35</td>\n",
       "      <td>96</td>\n",
       "      <td>1</td>\n",
       "      <td>0</td>\n",
       "      <td>0.0</td>\n",
       "      <td>1.0</td>\n",
       "      <td>6.0</td>\n",
       "      <td>0.0</td>\n",
       "      <td>0.0</td>\n",
       "      <td>2.0</td>\n",
       "      <td>0.0</td>\n",
       "      <td>1.0</td>\n",
       "      <td>2.0</td>\n",
       "      <td>1.0</td>\n",
       "    </tr>\n",
       "    <tr>\n",
       "      <th>19049</th>\n",
       "      <td>54</td>\n",
       "      <td>74</td>\n",
       "      <td>1</td>\n",
       "      <td>0</td>\n",
       "      <td>0.0</td>\n",
       "      <td>0.0</td>\n",
       "      <td>2.0</td>\n",
       "      <td>0.0</td>\n",
       "      <td>2.0</td>\n",
       "      <td>0.0</td>\n",
       "      <td>1.0</td>\n",
       "      <td>6.0</td>\n",
       "      <td>2.0</td>\n",
       "      <td>1.0</td>\n",
       "    </tr>\n",
       "    <tr>\n",
       "      <th>10525</th>\n",
       "      <td>59</td>\n",
       "      <td>378</td>\n",
       "      <td>4</td>\n",
       "      <td>0</td>\n",
       "      <td>9.0</td>\n",
       "      <td>1.0</td>\n",
       "      <td>5.0</td>\n",
       "      <td>0.0</td>\n",
       "      <td>0.0</td>\n",
       "      <td>0.0</td>\n",
       "      <td>0.0</td>\n",
       "      <td>1.0</td>\n",
       "      <td>4.0</td>\n",
       "      <td>1.0</td>\n",
       "    </tr>\n",
       "  </tbody>\n",
       "</table>\n",
       "</div>"
      ],
      "text/plain": [
       "       age  duration  campaign  previous  job  marital  education  default  \\\n",
       "26760   27       237         2         4  8.0      2.0        6.0      0.0   \n",
       "4974    34       229         3         0  0.0      2.0        6.0      0.0   \n",
       "28345   35        96         1         0  0.0      1.0        6.0      0.0   \n",
       "19049   54        74         1         0  0.0      0.0        2.0      0.0   \n",
       "10525   59       378         4         0  9.0      1.0        5.0      0.0   \n",
       "\n",
       "       housing  loan  contact  month  day_of_week  poutcome  \n",
       "26760      0.0   2.0      0.0    4.0          1.0       2.0  \n",
       "4974       0.0   0.0      0.0    7.0          0.0       1.0  \n",
       "28345      0.0   2.0      0.0    1.0          2.0       1.0  \n",
       "19049      2.0   0.0      1.0    6.0          2.0       1.0  \n",
       "10525      0.0   0.0      0.0    1.0          4.0       1.0  "
      ]
     },
     "execution_count": 338,
     "metadata": {},
     "output_type": "execute_result"
    }
   ],
   "source": [
    "x_train.head()"
   ]
  },
  {
   "cell_type": "markdown",
   "metadata": {},
   "source": [
    "### Compute class weight to handle imbalanced data"
   ]
  },
  {
   "cell_type": "code",
   "execution_count": 275,
   "metadata": {},
   "outputs": [
    {
     "data": {
      "text/plain": [
       "7.875640679794983"
      ]
     },
     "execution_count": 275,
     "metadata": {},
     "output_type": "execute_result"
    }
   ],
   "source": [
    "class_counts = target.value_counts()\n",
    "class_weight = class_counts[0] / class_counts[1]\n",
    "class_weight"
   ]
  },
  {
   "cell_type": "markdown",
   "metadata": {},
   "source": [
    "### Random Forrest"
   ]
  },
  {
   "cell_type": "markdown",
   "metadata": {},
   "source": [
    "#### Baseline"
   ]
  },
  {
   "cell_type": "code",
   "execution_count": 302,
   "metadata": {},
   "outputs": [],
   "source": [
    "def print_train_val_metrics(model):\n",
    "    \"\"\"Prints metrics for training and evaluation data\n",
    "\n",
    "    Args:\n",
    "        model : The model to evaluate\n",
    "    \"\"\"\n",
    "    \n",
    "    y_train_pred = model.predict(x_train)\n",
    "    y_val_pred = model.predict(x_val)\n",
    "    \n",
    "    metric_results = pd.DataFrame(columns=['Training', 'Validation'], index=['Accuracy', 'F1 score', 'ROC AUC'])\n",
    "    \n",
    "    metric_results.at['Accuracy', 'Training'] = metrics.accuracy_score(y_train_pred, y_train)\n",
    "    metric_results.at['F1 score', 'Training'] = metrics.f1_score(y_train_pred, y_train)\n",
    "    metric_results.at['ROC AUC', 'Training'] = metrics.roc_auc_score(y_train_pred, y_train)\n",
    "    \n",
    "    metric_results.at['Accuracy', 'Validation'] = metrics.accuracy_score(y_val_pred, y_val)\n",
    "    metric_results.at['F1 score', 'Validation'] = metrics.f1_score(y_val_pred, y_val)\n",
    "    metric_results.at['ROC AUC', 'Validation'] = metrics.roc_auc_score(y_val_pred, y_val)\n",
    "    \n",
    "    print(metric_results.astype(float).round(3))"
   ]
  },
  {
   "cell_type": "code",
   "execution_count": 386,
   "metadata": {},
   "outputs": [
    {
     "name": "stdout",
     "output_type": "stream",
     "text": [
      "          Training  Validation\n",
      "Accuracy       1.0       0.905\n",
      "F1 score       1.0       0.479\n",
      "ROC AUC        1.0       0.779\n"
     ]
    }
   ],
   "source": [
    "rf_classifier = RandomForestClassifier(random_state=42)\n",
    "rf_classifier.fit(x_train, y_train.values.ravel())\n",
    "print_train_val_metrics(rf_classifier)"
   ]
  },
  {
   "cell_type": "markdown",
   "metadata": {},
   "source": [
    "#### Class weight"
   ]
  },
  {
   "cell_type": "code",
   "execution_count": 387,
   "metadata": {},
   "outputs": [
    {
     "name": "stdout",
     "output_type": "stream",
     "text": [
      "          Training  Validation\n",
      "Accuracy       1.0       0.904\n",
      "F1 score       1.0       0.433\n",
      "ROC AUC        1.0       0.785\n"
     ]
    }
   ],
   "source": [
    "rf_classifier_balanced = RandomForestClassifier(random_state=42, class_weight='balanced')\n",
    "rf_classifier_balanced.fit(x_train, y_train.values.ravel())\n",
    "print_train_val_metrics(rf_classifier_balanced)"
   ]
  },
  {
   "cell_type": "markdown",
   "metadata": {},
   "source": [
    "##### Feature importance"
   ]
  },
  {
   "cell_type": "code",
   "execution_count": 93,
   "metadata": {},
   "outputs": [],
   "source": [
    "def print_feature_importance(features, importance_scores):\n",
    "    feature_importance = pd.Series(importance_scores, index=features).sort_values(ascending=False)\n",
    "    sns.barplot(x=feature_importance, y=feature_importance.index)\n",
    "    plt.title('Feature importance scores')\n",
    "    plt.xlabel('Feature')\n",
    "    plt.ylabel('Score')\n",
    "    plt.show()"
   ]
  },
  {
   "cell_type": "code",
   "execution_count": 390,
   "metadata": {},
   "outputs": [
    {
     "data": {
      "image/png": "[encoded data removed]",
      "text/plain": [
       "<Figure size 432x288 with 1 Axes>"
      ]
     },
     "metadata": {
      "needs_background": "light"
     },
     "output_type": "display_data"
    }
   ],
   "source": [
    "print_feature_importance(x_train.columns, rf_classifier_balanced.feature_importances_)"
   ]
  },
  {
   "cell_type": "markdown",
   "metadata": {},
   "source": [
    "#### Hyperparameter tuning via grid search"
   ]
  },
  {
   "cell_type": "code",
   "execution_count": 424,
   "metadata": {},
   "outputs": [
    {
     "name": "stdout",
     "output_type": "stream",
     "text": [
      "{'bootstrap': True, 'class_weight': 'balanced', 'max_depth': None, 'max_features': 0.5, 'min_samples_split': 20, 'n_estimators': 200}\n"
     ]
    }
   ],
   "source": [
    "rf_grid_parameters = [{'n_estimators' : [10, 20, 50, 100, 200],\n",
    "                       'max_depth' : [4, 5, 6, 10, None],\n",
    "                       'min_samples_split': [2, 4, 10, 20, 40, 100],\n",
    "                       'max_features': [0.5, 'auto','sqrt','log2', None],\n",
    "                       'bootstrap': [False, True],\n",
    "                       'class_weight': ['balanced', 'balanced_subsample', None]}]\n",
    "\n",
    "rf_grid_search = GridSearchCV(RandomForestClassifier(random_state=42),\n",
    "                              param_grid=rf_grid_parameters,\n",
    "                              scoring='f1',\n",
    "                              n_jobs=-1)\n",
    "\n",
    "rf_classifier_grid = rf_grid_search.fit(x_train, y_train.values.ravel())\n",
    "print(rf_classifier_grid.best_params_)"
   ]
  },
  {
   "cell_type": "code",
   "execution_count": 425,
   "metadata": {},
   "outputs": [
    {
     "name": "stdout",
     "output_type": "stream",
     "text": [
      "          Training  Validation\n",
      "Accuracy     0.930       0.886\n",
      "F1 score     0.754       0.599\n",
      "ROC AUC      0.809       0.731\n"
     ]
    }
   ],
   "source": [
    "print_train_val_metrics(rf_classifier_grid)"
   ]
  },
  {
   "cell_type": "markdown",
   "metadata": {},
   "source": [
    "##### Feature importance"
   ]
  },
  {
   "cell_type": "code",
   "execution_count": 391,
   "metadata": {},
   "outputs": [
    {
     "data": {
      "image/png": "[encoded data removed]",
      "text/plain": [
       "<Figure size 432x288 with 1 Axes>"
      ]
     },
     "metadata": {
      "needs_background": "light"
     },
     "output_type": "display_data"
    }
   ],
   "source": [
    "print_feature_importance(x_train.columns, rf_classifier_best_grid.feature_importances_)"
   ]
  },
  {
   "cell_type": "markdown",
   "metadata": {},
   "source": [
    "### BalanceBaggingClassifier"
   ]
  },
  {
   "cell_type": "code",
   "execution_count": 393,
   "metadata": {},
   "outputs": [
    {
     "name": "stdout",
     "output_type": "stream",
     "text": [
      "          Training  Validation\n",
      "Accuracy     0.907       0.861\n",
      "F1 score     0.705       0.564\n",
      "ROC AUC      0.774       0.704\n"
     ]
    }
   ],
   "source": [
    "bb_classifier = BalancedBaggingClassifier(random_state=42)\n",
    "bb_classifier.fit(x_train, y_train.values.ravel())\n",
    "\n",
    "print_train_val_metrics(bb_classifier)"
   ]
  },
  {
   "cell_type": "markdown",
   "metadata": {},
   "source": [
    "### XGBoost"
   ]
  },
  {
   "cell_type": "markdown",
   "metadata": {},
   "source": [
    "#### Baseline"
   ]
  },
  {
   "cell_type": "code",
   "execution_count": 394,
   "metadata": {},
   "outputs": [
    {
     "name": "stdout",
     "output_type": "stream",
     "text": [
      "          Training  Validation\n",
      "Accuracy     0.955       0.908\n",
      "F1 score     0.774       0.533\n",
      "ROC AUC      0.926       0.779\n"
     ]
    }
   ],
   "source": [
    "xgb_classifier = XGBClassifier(random_state=42)\n",
    "xgb_classifier.fit(x_train, y_train)\n",
    "\n",
    "print_train_val_metrics(xgb_classifier)"
   ]
  },
  {
   "cell_type": "markdown",
   "metadata": {},
   "source": [
    "#### Class weight"
   ]
  },
  {
   "cell_type": "code",
   "execution_count": 395,
   "metadata": {},
   "outputs": [
    {
     "name": "stdout",
     "output_type": "stream",
     "text": [
      "          Training  Validation\n",
      "Accuracy     0.914       0.871\n",
      "F1 score     0.717       0.586\n",
      "ROC AUC      0.782       0.716\n"
     ]
    }
   ],
   "source": [
    "xgb_classifier_scaled = XGBClassifier(scale_pos_weight=class_weight, random_state=42)\n",
    "xgb_classifier_scaled.fit(x_train, y_train)\n",
    "\n",
    "print_train_val_metrics(xgb_classifier_scaled)"
   ]
  },
  {
   "cell_type": "markdown",
   "metadata": {},
   "source": [
    "RandomizedSearchCV"
   ]
  },
  {
   "cell_type": "code",
   "execution_count": 409,
   "metadata": {},
   "outputs": [
    {
     "name": "stdout",
     "output_type": "stream",
     "text": [
      "{'alpha': 0.5, 'gamma': 0.05, 'lambda': 0.001, 'max_depth': 5, 'scale_pos_weight': 7.875640679794983}\n"
     ]
    }
   ],
   "source": [
    "xgb_grid_params = {\n",
    "    'gamma': [0.05, 0.1,1],\n",
    "    'max_depth': [5, 10, 20],\n",
    "    'alpha': [0, 0.1, 0.5],\n",
    "    'lambda': [0.001, 0.01, 0.05],\n",
    "    'scale_pos_weight': [1, class_weight]\n",
    "}\n",
    "\n",
    "xgb_classifier_grid = GridSearchCV(XGBClassifier(objective='binary:logistic',\n",
    "                                                 random_state=42),\n",
    "                                  param_grid=xgb_grid_params,\n",
    "                                  scoring='f1',\n",
    "                                  n_jobs=-1)\n",
    "\n",
    "xgb_fitted_grid = xgb_classifier_grid.fit(x_train, y_train.values.ravel())\n",
    "\n",
    "print(xgb_fitted_grid.best_params_)"
   ]
  },
  {
   "cell_type": "code",
   "execution_count": 411,
   "metadata": {},
   "outputs": [
    {
     "name": "stdout",
     "output_type": "stream",
     "text": [
      "          Training  Validation\n",
      "Accuracy     0.897       0.864\n",
      "F1 score     0.676       0.577\n",
      "ROC AUC      0.759       0.709\n"
     ]
    }
   ],
   "source": [
    "print_train_val_metrics(xgb_fitted_grid)"
   ]
  },
  {
   "cell_type": "markdown",
   "metadata": {},
   "source": [
    "##### Feature importance via SHAP values"
   ]
  },
  {
   "cell_type": "code",
   "execution_count": 396,
   "metadata": {},
   "outputs": [
    {
     "name": "stderr",
     "output_type": "stream",
     "text": [
      "ntree_limit is deprecated, use `iteration_range` or model slicing instead.\n"
     ]
    },
    {
     "data": {
      "image/png": "[encoded data removed]",
      "text/plain": [
       "<Figure size 576x511.2 with 1 Axes>"
      ]
     },
     "metadata": {
      "needs_background": "light"
     },
     "output_type": "display_data"
    }
   ],
   "source": [
    "explainer = shap.Explainer(xgb_classifier)\n",
    "shap_values = explainer(x_train)\n",
    "\n",
    "shap.summary_plot(shap_values, x_train, plot_type=\"bar\")"
   ]
  },
  {
   "cell_type": "code",
   "execution_count": 17,
   "metadata": {},
   "outputs": [
    {
     "data": {
      "image/png": "[encoded data removed]",
      "text/plain": [
       "<Figure size 576x396 with 2 Axes>"
      ]
     },
     "metadata": {
      "needs_background": "light"
     },
     "output_type": "display_data"
    }
   ],
   "source": [
    "shap.plots.beeswarm(shap_values)"
   ]
  },
  {
   "cell_type": "markdown",
   "metadata": {},
   "source": [
    "### Oversampling"
   ]
  },
  {
   "cell_type": "code",
   "execution_count": 401,
   "metadata": {},
   "outputs": [],
   "source": [
    "def perform_oversampling(x, y):\n",
    "    \"\"\"Performs oversampling on the minority class \"yes\" in the target\n",
    "\n",
    "    Args:\n",
    "        x (DataFrame): Predictors\n",
    "        y (DataFrame): Target\n",
    "\n",
    "    Returns:\n",
    "        DataFrames: Perdictors and the oversampled target data\n",
    "    \"\"\"\n",
    "    print('Orig target balance:')\n",
    "    print(y.y.value_counts())\n",
    "    \n",
    "    ros = RandomOverSampler(sampling_strategy='minority', random_state=42)\n",
    "    x, y = ros.fit_resample(x, y)\n",
    "    \n",
    "    print('Resampled target balance:')\n",
    "    print(y.y.value_counts())\n",
    "    \n",
    "    return x, y"
   ]
  },
  {
   "cell_type": "code",
   "execution_count": 400,
   "metadata": {},
   "outputs": [
    {
     "name": "stdout",
     "output_type": "stream",
     "text": [
      "Loaded data shape: (32910, 15)\n",
      "Shape w/o duplicates: (32902, 15)\n",
      "Orig target balance:\n",
      "no     29195\n",
      "yes     3707\n",
      "Name: y, dtype: int64\n",
      "Resampled target balance:\n",
      "no     29195\n",
      "yes    29195\n",
      "Name: y, dtype: int64\n",
      "Encoded data shape: (58390, 14)\n",
      "X train shape: (46712, 14); X test shape (11678, 14)\n",
      "Y train shape: (46712, 1); Y test shape (11678, 1)\n"
     ]
    }
   ],
   "source": [
    "predictors_os, target_os, train_encoder_os = get_processed_data('train_file.xlsx', oversample=True)\n",
    "\n",
    "x_train_os, x_val_os, y_train_os, y_val_os = train_test_split(predictors_os, target_os,\n",
    "                                                              train_size=0.8,\n",
    "                                                              shuffle=True,\n",
    "                                                              random_state=42,\n",
    "                                                              stratify=target_os)\n",
    "\n",
    "print(f'X train shape: {x_train_os.shape}; X test shape {x_val_os.shape}')\n",
    "print(f'Y train shape: {y_train_os.shape}; Y test shape {y_val_os.shape}')"
   ]
  },
  {
   "cell_type": "code",
   "execution_count": 459,
   "metadata": {},
   "outputs": [],
   "source": [
    "def print_train_val_metrics_os(model):\n",
    "    \"\"\"Prints metrics for training and evaluation of oversampled data\n",
    "\n",
    "    Args:\n",
    "        model : The model to evaluate\n",
    "    \"\"\"\n",
    "    \n",
    "    y_train_pred = model.predict(x_train_os)\n",
    "    y_val_pred = model.predict(x_val_os)\n",
    "    \n",
    "    metric_results = pd.DataFrame(columns=['Training', 'Validation'], index=['Accuracy', 'F1 score', 'ROC AUC'])\n",
    "    \n",
    "    metric_results.at['Accuracy', 'Training'] = metrics.accuracy_score(y_train_pred, y_train_os)\n",
    "    metric_results.at['F1 score', 'Training'] = metrics.f1_score(y_train_pred, y_train_os)\n",
    "    metric_results.at['ROC AUC', 'Training'] = metrics.roc_auc_score(y_train_pred, y_train_os)\n",
    "    \n",
    "    metric_results.at['Accuracy', 'Validation'] = metrics.accuracy_score(y_val_pred, y_val_os)\n",
    "    metric_results.at['F1 score', 'Validation'] = metrics.f1_score(y_val_pred, y_val_os)\n",
    "    metric_results.at['ROC AUC', 'Validation'] = metrics.roc_auc_score(y_val_pred, y_val_os)\n",
    "    \n",
    "    print(metric_results.astype(float).round(3))"
   ]
  },
  {
   "cell_type": "markdown",
   "metadata": {},
   "source": [
    "#### Random forest"
   ]
  },
  {
   "cell_type": "code",
   "execution_count": 426,
   "metadata": {},
   "outputs": [
    {
     "name": "stdout",
     "output_type": "stream",
     "text": [
      "Fitting 5 folds for each of 4500 candidates, totalling 22500 fits\n"
     ]
    },
    {
     "name": "stderr",
     "output_type": "stream",
     "text": [
      "A worker stopped while some jobs were given to the executor. This can be caused by a too short worker timeout or by a memory leak.\n"
     ]
    },
    {
     "name": "stdout",
     "output_type": "stream",
     "text": [
      "{'bootstrap': False, 'class_weight': 'balanced', 'max_depth': None, 'max_features': 'auto', 'min_samples_split': 2, 'n_estimators': 10}\n"
     ]
    }
   ],
   "source": [
    "rf_classifier_grid_os = GridSearchCV(RandomForestClassifier(random_state=42),\n",
    "                                     param_grid=rf_grid_parameters,\n",
    "                                     scoring='f1',\n",
    "                                     n_jobs=-1,\n",
    "                                     verbose=1)\n",
    "\n",
    "rf_best_grid_os = rf_classifier_grid_os.fit(x_train_os, y_train_os.values.ravel())\n",
    "print(rf_best_grid_os.best_params_)"
   ]
  },
  {
   "cell_type": "code",
   "execution_count": 462,
   "metadata": {},
   "outputs": [
    {
     "name": "stdout",
     "output_type": "stream",
     "text": [
      "          Training  Validation\n",
      "Accuracy     1.000       0.968\n",
      "F1 score     0.999       0.876\n",
      "ROC AUC      1.000       0.890\n"
     ]
    }
   ],
   "source": [
    "print_train_val_metrics(rf_best_grid_os)"
   ]
  },
  {
   "cell_type": "markdown",
   "metadata": {},
   "source": [
    "#### XGBoost"
   ]
  },
  {
   "cell_type": "code",
   "execution_count": 413,
   "metadata": {},
   "outputs": [
    {
     "name": "stdout",
     "output_type": "stream",
     "text": [
      "{'alpha': 0.1, 'gamma': 0.05, 'lambda': 0.05, 'max_depth': 20, 'scale_pos_weight': 1}\n"
     ]
    }
   ],
   "source": [
    "xgb_classifier_grid_os = GridSearchCV(XGBClassifier(objective='binary:logistic',\n",
    "                                                    random_state=42),\n",
    "                                      param_grid=xgb_grid_params,\n",
    "                                      scoring='f1',\n",
    "                                      n_jobs=-1,\n",
    "                                      verbose=0)\n",
    "\n",
    "xgb_best_grid_os = xgb_classifier_grid_os.fit(x_train_os, y_train_os.values.ravel())\n",
    "print(xgb_best_grid_os.best_params_)"
   ]
  },
  {
   "cell_type": "code",
   "execution_count": 464,
   "metadata": {},
   "outputs": [
    {
     "name": "stdout",
     "output_type": "stream",
     "text": [
      "          Training  Validation\n",
      "Accuracy       1.0       0.940\n",
      "F1 score       1.0       0.788\n",
      "ROC AUC        1.0       0.825\n"
     ]
    }
   ],
   "source": [
    "print_train_val_metrics(xgb_best_grid_os)"
   ]
  },
  {
   "cell_type": "markdown",
   "metadata": {},
   "source": [
    "## Summary"
   ]
  },
  {
   "cell_type": "markdown",
   "metadata": {},
   "source": [
    "| Model | AUC | F1 score |\n",
    "| :--- | :---- | :---- |\n",
    "| RF baseline |0.779|0.479*|\n",
    "| RF class weight |0.785|0.433*|\n",
    "| RF best grid |0.731|0.599|\n",
    "| RF oversampling |0.890|0.876|\n",
    "| Balance Bagging |0.704|0.564|\n",
    "| XGB baseline |0.779|0.533*|\n",
    "| XGB class weight |0.716|0.586|\n",
    "| XGB best grid |0.709|0.577|\n",
    "| XGB oversampling |0.825|0.788*|\n",
    "\n",
    "* Overfitting"
   ]
  },
  {
   "cell_type": "markdown",
   "metadata": {},
   "source": [
    "## Test predictions"
   ]
  },
  {
   "cell_type": "markdown",
   "metadata": {},
   "source": [
    "### Load test data"
   ]
  },
  {
   "cell_type": "code",
   "execution_count": 357,
   "metadata": {},
   "outputs": [
    {
     "name": "stdout",
     "output_type": "stream",
     "text": [
      "Loaded data shape: (40, 14)\n",
      "Shape w/o duplicates: (40, 14)\n",
      "Encoded data shape: (40, 14)\n"
     ]
    },
    {
     "data": {
      "text/html": [
       "<div>\n",
       "<style scoped>\n",
       "    .dataframe tbody tr th:only-of-type {\n",
       "        vertical-align: middle;\n",
       "    }\n",
       "\n",
       "    .dataframe tbody tr th {\n",
       "        vertical-align: top;\n",
       "    }\n",
       "\n",
       "    .dataframe thead th {\n",
       "        text-align: right;\n",
       "    }\n",
       "</style>\n",
       "<table border=\"1\" class=\"dataframe\">\n",
       "  <thead>\n",
       "    <tr style=\"text-align: right;\">\n",
       "      <th></th>\n",
       "      <th>age</th>\n",
       "      <th>duration</th>\n",
       "      <th>campaign</th>\n",
       "      <th>previous</th>\n",
       "      <th>job</th>\n",
       "      <th>marital</th>\n",
       "      <th>education</th>\n",
       "      <th>default</th>\n",
       "      <th>housing</th>\n",
       "      <th>loan</th>\n",
       "      <th>contact</th>\n",
       "      <th>month</th>\n",
       "      <th>day_of_week</th>\n",
       "      <th>poutcome</th>\n",
       "    </tr>\n",
       "  </thead>\n",
       "  <tbody>\n",
       "    <tr>\n",
       "      <th>0</th>\n",
       "      <td>34</td>\n",
       "      <td>214</td>\n",
       "      <td>4</td>\n",
       "      <td>0</td>\n",
       "      <td>7.0</td>\n",
       "      <td>1.0</td>\n",
       "      <td>3.0</td>\n",
       "      <td>0.0</td>\n",
       "      <td>0.0</td>\n",
       "      <td>0.0</td>\n",
       "      <td>1.0</td>\n",
       "      <td>6.0</td>\n",
       "      <td>2.0</td>\n",
       "      <td>1.0</td>\n",
       "    </tr>\n",
       "    <tr>\n",
       "      <th>1</th>\n",
       "      <td>29</td>\n",
       "      <td>190</td>\n",
       "      <td>1</td>\n",
       "      <td>0</td>\n",
       "      <td>1.0</td>\n",
       "      <td>2.0</td>\n",
       "      <td>2.0</td>\n",
       "      <td>0.0</td>\n",
       "      <td>0.0</td>\n",
       "      <td>0.0</td>\n",
       "      <td>0.0</td>\n",
       "      <td>3.0</td>\n",
       "      <td>2.0</td>\n",
       "      <td>1.0</td>\n",
       "    </tr>\n",
       "    <tr>\n",
       "      <th>2</th>\n",
       "      <td>35</td>\n",
       "      <td>152</td>\n",
       "      <td>2</td>\n",
       "      <td>0</td>\n",
       "      <td>0.0</td>\n",
       "      <td>2.0</td>\n",
       "      <td>3.0</td>\n",
       "      <td>0.0</td>\n",
       "      <td>0.0</td>\n",
       "      <td>0.0</td>\n",
       "      <td>0.0</td>\n",
       "      <td>6.0</td>\n",
       "      <td>4.0</td>\n",
       "      <td>1.0</td>\n",
       "    </tr>\n",
       "    <tr>\n",
       "      <th>3</th>\n",
       "      <td>60</td>\n",
       "      <td>179</td>\n",
       "      <td>1</td>\n",
       "      <td>0</td>\n",
       "      <td>0.0</td>\n",
       "      <td>0.0</td>\n",
       "      <td>3.0</td>\n",
       "      <td>0.0</td>\n",
       "      <td>2.0</td>\n",
       "      <td>0.0</td>\n",
       "      <td>0.0</td>\n",
       "      <td>3.0</td>\n",
       "      <td>0.0</td>\n",
       "      <td>1.0</td>\n",
       "    </tr>\n",
       "    <tr>\n",
       "      <th>4</th>\n",
       "      <td>45</td>\n",
       "      <td>105</td>\n",
       "      <td>2</td>\n",
       "      <td>0</td>\n",
       "      <td>4.0</td>\n",
       "      <td>1.0</td>\n",
       "      <td>6.0</td>\n",
       "      <td>0.0</td>\n",
       "      <td>0.0</td>\n",
       "      <td>0.0</td>\n",
       "      <td>1.0</td>\n",
       "      <td>6.0</td>\n",
       "      <td>4.0</td>\n",
       "      <td>1.0</td>\n",
       "    </tr>\n",
       "  </tbody>\n",
       "</table>\n",
       "</div>"
      ],
      "text/plain": [
       "   age  duration  campaign  previous  job  marital  education  default  \\\n",
       "0   34       214         4         0  7.0      1.0        3.0      0.0   \n",
       "1   29       190         1         0  1.0      2.0        2.0      0.0   \n",
       "2   35       152         2         0  0.0      2.0        3.0      0.0   \n",
       "3   60       179         1         0  0.0      0.0        3.0      0.0   \n",
       "4   45       105         2         0  4.0      1.0        6.0      0.0   \n",
       "\n",
       "   housing  loan  contact  month  day_of_week  poutcome  \n",
       "0      0.0   0.0      1.0    6.0          2.0       1.0  \n",
       "1      0.0   0.0      0.0    3.0          2.0       1.0  \n",
       "2      0.0   0.0      0.0    6.0          4.0       1.0  \n",
       "3      2.0   0.0      0.0    3.0          0.0       1.0  \n",
       "4      0.0   0.0      1.0    6.0          4.0       1.0  "
      ]
     },
     "execution_count": 357,
     "metadata": {},
     "output_type": "execute_result"
    }
   ],
   "source": [
    "# process test data\n",
    "# use the encoder fitted to the training data\n",
    "x_test = get_processed_data('test_file.xlsx', encoder=train_encoder, split_target=False)\n",
    "x_test.head()"
   ]
  },
  {
   "cell_type": "markdown",
   "metadata": {},
   "source": [
    "### Generate predictions"
   ]
  },
  {
   "cell_type": "code",
   "execution_count": 407,
   "metadata": {},
   "outputs": [
    {
     "data": {
      "text/plain": [
       "array([0, 0, 0, 0, 0, 0, 0, 0, 1, 0, 0, 0, 0, 0, 0, 0, 0, 0, 0, 0, 0, 0,\n",
       "       0, 0, 0, 0, 0, 0, 0, 0, 1, 1, 0, 0, 0, 0, 0, 0, 0, 1])"
      ]
     },
     "execution_count": 407,
     "metadata": {},
     "output_type": "execute_result"
    }
   ],
   "source": [
    "rf_classifier_os.predict(x_test)"
   ]
  },
  {
   "cell_type": "code",
   "execution_count": 363,
   "metadata": {},
   "outputs": [
    {
     "data": {
      "text/plain": [
       "array([0, 0, 0, 0, 0, 0, 0, 1, 1, 0, 0, 0, 0, 0, 0, 0, 0, 0, 0, 1, 0, 1,\n",
       "       0, 0, 0, 0, 0, 1, 0, 0, 1, 1, 0, 0, 0, 0, 0, 0, 0, 1])"
      ]
     },
     "execution_count": 363,
     "metadata": {},
     "output_type": "execute_result"
    }
   ],
   "source": [
    "rf_best_grid_os.predict(x_test)"
   ]
  },
  {
   "cell_type": "code",
   "execution_count": 379,
   "metadata": {},
   "outputs": [
    {
     "data": {
      "text/plain": [
       "array([0, 0, 0, 0, 0, 0, 0, 0, 0, 0, 0, 0, 0, 0, 0, 0, 0, 0, 0, 0, 0, 0,\n",
       "       0, 0, 0, 0, 0, 0, 0, 0, 0, 1, 0, 0, 0, 0, 0, 0, 0, 0])"
      ]
     },
     "execution_count": 379,
     "metadata": {},
     "output_type": "execute_result"
    }
   ],
   "source": [
    "rf_best_grid_os.predict(x_test)"
   ]
  },
  {
   "cell_type": "code",
   "execution_count": 441,
   "metadata": {},
   "outputs": [
    {
     "data": {
      "text/plain": [
       "array([0, 0, 0, 0, 0, 0, 0, 1, 1, 0, 0, 0, 0, 0, 0, 0, 0, 0, 0, 0, 0, 0,\n",
       "       0, 0, 0, 0, 0, 1, 0, 0, 1, 1, 0, 0, 0, 0, 0, 0, 0, 1])"
      ]
     },
     "execution_count": 441,
     "metadata": {},
     "output_type": "execute_result"
    }
   ],
   "source": [
    "xgb_classifier_os.predict(x_test)"
   ]
  },
  {
   "cell_type": "markdown",
   "metadata": {},
   "source": [
    "### Write to CSV file"
   ]
  },
  {
   "cell_type": "code",
   "execution_count": 420,
   "metadata": {},
   "outputs": [],
   "source": [
    "pd.DataFrame(columns=['RF best', 'XGB best'], data=[]).to_csv('test_predictions.csv')"
   ]
  },
  {
   "cell_type": "code",
   "execution_count": null,
   "metadata": {},
   "outputs": [],
   "source": [
    "xgb_best_grid_os.predict(x_test)"
   ]
  }
 ],
 "metadata": {
  "interpreter": {
   "hash": "d46b08aaa7185633d4c534272731182fb681d96c8f7586dda8fd0aa5d62c16ad"
  },
  "kernelspec": {
   "display_name": "Python 3.8.8 ('daiichi')",
   "language": "python",
   "name": "python3"
  },
  "language_info": {
   "codemirror_mode": {
    "name": "ipython",
    "version": 3
   },
   "file_extension": ".py",
   "mimetype": "text/x-python",
   "name": "python",
   "nbconvert_exporter": "python",
   "pygments_lexer": "ipython3",
   "version": "3.8.8"
  },
  "orig_nbformat": 4
 },
 "nbformat": 4,
 "nbformat_minor": 2
}
